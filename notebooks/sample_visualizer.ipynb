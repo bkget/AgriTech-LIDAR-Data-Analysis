{
 "cells": [
  {
   "cell_type": "code",
   "execution_count": 1,
   "metadata": {},
   "outputs": [],
   "source": [
    "import sys, os\n",
    "import rasterio\n",
    "import numpy as np\n",
    "import pandas as pd\n",
    "import matplotlib.pyplot as plt\n",
    "from shapely.geometry import Polygon\n"
   ]
  },
  {
   "cell_type": "code",
   "execution_count": 2,
   "metadata": {},
   "outputs": [],
   "source": [
    "sys.path.append(os.path.abspath(os.path.join('../scripts')))\n",
    "from fetch_lidar_data import FetchLidarData"
   ]
  },
  {
   "cell_type": "code",
   "execution_count": 3,
   "metadata": {
    "scrolled": true
   },
   "outputs": [
    {
     "name": "stdout",
     "output_type": "stream",
     "text": [
      "The name of the region is:  IA_FullState\n",
      "2022-06-27 21:09:02,901 — FetchLidarData — INFO — Successfully Instantiated DataFetcher Class Object\n"
     ]
    }
   ],
   "source": [
    "MINX, MINY, MAXX, MAXY = [-93.756155, 41.918015, -93.747334, 41.921429]\n",
    "polygon = Polygon(((MINX, MINY), \n",
    "                    (MINX, MAXY),\n",
    "                    (MAXX, MAXY), \n",
    "                    (MAXX, MINY), \n",
    "                    (MINX, MINY)) )\n",
    "\n",
    "df = FetchLidarData(polygon=polygon, region=\"IA_FullState\", epsg=4326) "
   ]
  },
  {
   "cell_type": "code",
   "execution_count": 4,
   "metadata": {},
   "outputs": [
    {
     "name": "stdout",
     "output_type": "stream",
     "text": [
      "Pipeline is running ...\n",
      "2022-06-27 21:09:04,427 — FetchLidarData — INFO — Successfully Extracted Polygon Edges and Polygon Cropping Bounds\n",
      "2022-06-27 21:09:04,429 — FileHandler — INFO — pipeline_template read successfully\n",
      "Data Link :  https://s3-us-west-2.amazonaws.com/usgs-lidar-public/IA_FullState/ept.json\n",
      "2022-06-27 21:09:04,430 — FetchLidarData — INFO — Successfully generate Pipeline data\n",
      "2022-06-27 21:09:21,379 — FetchLidarData — INFO — Data is fetched successfully\n"
     ]
    }
   ],
   "source": [
    "df.get_data()"
   ]
  },
  {
   "cell_type": "code",
   "execution_count": 5,
   "metadata": {},
   "outputs": [
    {
     "name": "stdout",
     "output_type": "stream",
     "text": [
      "Reading Las File from : IA_FullState.las\n",
      "Generating Points from las File ...\n",
      "2022-06-27 21:09:32,406 — FetchLidarData — INFO — Elevation points are generated successfully\n",
      "Making Geopandas Data Frame...\n",
      "2022-06-27 21:09:39,976 — FetchLidarData — INFO — Geopandas Dataframe generated successfully\n"
     ]
    }
   ],
   "source": [
    "elevation = df.generate_geopandasdf() "
   ]
  },
  {
   "cell_type": "code",
   "execution_count": 6,
   "metadata": {
    "scrolled": true
   },
   "outputs": [
    {
     "data": {
      "text/html": [
       "<div>\n",
       "<style scoped>\n",
       "    .dataframe tbody tr th:only-of-type {\n",
       "        vertical-align: middle;\n",
       "    }\n",
       "\n",
       "    .dataframe tbody tr th {\n",
       "        vertical-align: top;\n",
       "    }\n",
       "\n",
       "    .dataframe thead th {\n",
       "        text-align: right;\n",
       "    }\n",
       "</style>\n",
       "<table border=\"1\" class=\"dataframe\">\n",
       "  <thead>\n",
       "    <tr style=\"text-align: right;\">\n",
       "      <th></th>\n",
       "      <th>elevation</th>\n",
       "      <th>geometry</th>\n",
       "    </tr>\n",
       "  </thead>\n",
       "  <tbody>\n",
       "    <tr>\n",
       "      <th>0</th>\n",
       "      <td>318.49</td>\n",
       "      <td>POINT (-93.75000 41.92000)</td>\n",
       "    </tr>\n",
       "    <tr>\n",
       "      <th>1</th>\n",
       "      <td>318.37</td>\n",
       "      <td>POINT (-93.75000 41.92000)</td>\n",
       "    </tr>\n",
       "    <tr>\n",
       "      <th>2</th>\n",
       "      <td>318.41</td>\n",
       "      <td>POINT (-93.75000 41.92000)</td>\n",
       "    </tr>\n",
       "    <tr>\n",
       "      <th>3</th>\n",
       "      <td>318.15</td>\n",
       "      <td>POINT (-93.75000 41.92000)</td>\n",
       "    </tr>\n",
       "    <tr>\n",
       "      <th>4</th>\n",
       "      <td>318.29</td>\n",
       "      <td>POINT (-93.75000 41.92000)</td>\n",
       "    </tr>\n",
       "    <tr>\n",
       "      <th>5</th>\n",
       "      <td>318.31</td>\n",
       "      <td>POINT (-93.75000 41.92000)</td>\n",
       "    </tr>\n",
       "    <tr>\n",
       "      <th>6</th>\n",
       "      <td>318.48</td>\n",
       "      <td>POINT (-93.75000 41.92000)</td>\n",
       "    </tr>\n",
       "    <tr>\n",
       "      <th>7</th>\n",
       "      <td>318.17</td>\n",
       "      <td>POINT (-93.75000 41.92000)</td>\n",
       "    </tr>\n",
       "    <tr>\n",
       "      <th>8</th>\n",
       "      <td>318.20</td>\n",
       "      <td>POINT (-93.75000 41.92000)</td>\n",
       "    </tr>\n",
       "    <tr>\n",
       "      <th>9</th>\n",
       "      <td>318.42</td>\n",
       "      <td>POINT (-93.75000 41.92000)</td>\n",
       "    </tr>\n",
       "  </tbody>\n",
       "</table>\n",
       "</div>"
      ],
      "text/plain": [
       "   elevation                    geometry\n",
       "0     318.49  POINT (-93.75000 41.92000)\n",
       "1     318.37  POINT (-93.75000 41.92000)\n",
       "2     318.41  POINT (-93.75000 41.92000)\n",
       "3     318.15  POINT (-93.75000 41.92000)\n",
       "4     318.29  POINT (-93.75000 41.92000)\n",
       "5     318.31  POINT (-93.75000 41.92000)\n",
       "6     318.48  POINT (-93.75000 41.92000)\n",
       "7     318.17  POINT (-93.75000 41.92000)\n",
       "8     318.20  POINT (-93.75000 41.92000)\n",
       "9     318.42  POINT (-93.75000 41.92000)"
      ]
     },
     "execution_count": 6,
     "metadata": {},
     "output_type": "execute_result"
    }
   ],
   "source": [
    "elevation.head(10)"
   ]
  }
 ],
 "metadata": {
  "kernelspec": {
   "display_name": "Python 3 (ipykernel)",
   "language": "python",
   "name": "python3"
  },
  "language_info": {
   "codemirror_mode": {
    "name": "ipython",
    "version": 3
   },
   "file_extension": ".py",
   "mimetype": "text/x-python",
   "name": "python",
   "nbconvert_exporter": "python",
   "pygments_lexer": "ipython3",
   "version": "3.10.5"
  },
  "vscode": {
   "interpreter": {
    "hash": "916dbcbb3f70747c44a77c7bcd40155683ae19c65e1c03b4aa3499c5328201f1"
   }
  }
 },
 "nbformat": 4,
 "nbformat_minor": 2
}
